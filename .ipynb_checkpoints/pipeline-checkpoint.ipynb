{
 "cells": [
  {
   "cell_type": "code",
   "execution_count": 61,
   "metadata": {},
   "outputs": [],
   "source": [
    "import cv2\n",
    "import numpy as np\n",
    "import matplotlib.pyplot as plt\n",
    "\n",
    "def pipeline(image_name):\n",
    "\n",
    "    img = cv2.imread(image_name, cv2.CV_8UC1)\n",
    "    #img = img[0:2250, 750:3000]\n",
    "    width = 512\n",
    "    height = 512\n",
    "    dim = (width, height)\n",
    "\n",
    "    # resize image\n",
    "    resized = cv2.resize(img, dim, interpolation = cv2.INTER_AREA)\n",
    "    blurred = cv2.medianBlur(resized,5)\n",
    "    ret,thresholds = cv2.threshold(blurred, 0, 255, cv2.THRESH_OTSU)\n",
    "    kernel = np.ones((5,5), np.uint8)\n",
    "    mask = cv2.erode(thresholds, kernel, iterations=1)\n",
    "    mask = cv2.dilate(mask, kernel, iterations=1)\n",
    "    \n",
    "    width = 64\n",
    "    height = 64\n",
    "    dim = (width, height)\n",
    "\n",
    "    final = cv2.resize(mask, dim, interpolation = cv2.INTER_NEAREST)\n",
    "    #final = cv2.bitwise_not(final)\n",
    "    cv2.imwrite('edited_' + image_name, final)\n",
    "    plt.imshow(final)\n",
    "    plt.title('my picture')\n",
    "    plt.show()"
   ]
  },
  {
   "cell_type": "code",
   "execution_count": 65,
   "metadata": {},
   "outputs": [
    {
     "data": {
      "image/png": "[encoded data removed]",
      "text/plain": [
       "<Figure size 432x288 with 1 Axes>"
      ]
     },
     "metadata": {
      "needs_background": "light"
     },
     "output_type": "display_data"
    },
    {
     "data": {
      "image/png": "[encoded data removed]",
      "text/plain": [
       "<Figure size 432x288 with 1 Axes>"
      ]
     },
     "metadata": {
      "needs_background": "light"
     },
     "output_type": "display_data"
    }
   ],
   "source": [
    "#pipeline('barrel1.jpg')\n",
    "#pipeline('barrel2.jpg')\n",
    "#pipeline('cup2.jpg')\n",
    "pipeline('w1.jpg')"
   ]
  },
  {
   "cell_type": "code",
   "execution_count": null,
   "metadata": {},
   "outputs": [],
   "source": []
  },
  {
   "cell_type": "code",
   "execution_count": null,
   "metadata": {},
   "outputs": [],
   "source": []
  }
 ],
 "metadata": {
  "kernelspec": {
   "display_name": "Python 3",
   "language": "python",
   "name": "python3"
  },
  "language_info": {
   "codemirror_mode": {
    "name": "ipython",
    "version": 3
   },
   "file_extension": ".py",
   "mimetype": "text/x-python",
   "name": "python",
   "nbconvert_exporter": "python",
   "pygments_lexer": "ipython3",
   "version": "3.7.6"
  }
 },
 "nbformat": 4,
 "nbformat_minor": 4
}
